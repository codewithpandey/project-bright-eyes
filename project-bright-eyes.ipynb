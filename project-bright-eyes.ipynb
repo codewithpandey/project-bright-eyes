{
 "cells": [
  {
   "cell_type": "code",
   "execution_count": 30,
   "metadata": {},
   "outputs": [],
   "source": [
    "%matplotlib inline\n",
    "import numpy as np\n",
    "from random import randint\n",
    "import matplotlib.pyplot as plt\n",
    "from sklearn.utils import shuffle\n",
    "from sklearn.preprocessing import MinMaxScaler\n",
    "from sklearn.metrics import confusion_matrix\n",
    "import itertools\n",
    "import tensorflow as tf\n",
    "from tensorflow.keras import models, layers"
   ]
  },
  {
   "cell_type": "code",
   "execution_count": 31,
   "metadata": {},
   "outputs": [],
   "source": [
    "train_labels = []\n",
    "train_samples = []"
   ]
  },
  {
   "cell_type": "markdown",
   "metadata": {},
   "source": [
    "Story:\n",
    "For the people who have watched \"Rise of the Planet of Apes\", this story will be familiar.\n",
    "\n",
    "A pharmaceutical chemist William Rodman is testing a viral based drug named ALZ-112 at Gen-Sys labs. A female chimp marked as Test Subject-09 is introduced to the drug and shows signs of remarkable intelligence. This also causes the chimps irises turn flexi green and hence the name, Bright Eyes. This drug was originally developed to treat Alzhimers, but its being tested on the chimps first. Later William introduces this drug to his father who also is suffering from alzheimers but unlike Bright Eyes he suffers some side effects.\n",
    "\n",
    "Our objective here is predict if a perso of certain age is intruduced to the drug will he/she show the signs of side effects or not.\n",
    "\n",
    "The drug will be tested on individuals from ages 30 to 100 in a clinical trial.\n",
    "The trial had 2100 participants. Half were under 65 years old, half were 65 years or older.\n",
    "Around 95% of the patients of age 65 or older experinced side effects.\n",
    "Around 95% of patients of age under 65 experienced no side effects."
   ]
  },
  {
   "cell_type": "code",
   "execution_count": 32,
   "metadata": {},
   "outputs": [],
   "source": [
    "for i in range(50):\n",
    "    # The ~5% of younger individuals who did experience side effects\n",
    "    random_younger = randint(30, 64)\n",
    "    train_samples.append(random_younger)\n",
    "    train_labels.append(1)\n",
    "\n",
    "    #The ~5% of older individuals who did not experience side effects\n",
    "    random_older = randint(65, 100)\n",
    "    train_samples.append(random_older)\n",
    "    train_labels.append(0)\n",
    "\n",
    "for i in range(1000):\n",
    "    # The ~95% of younger individuals who did not experience side effects\n",
    "    random_younger = randint(30, 64)\n",
    "    train_samples.append(random_younger)\n",
    "    train_labels.append(0)\n",
    "\n",
    "    #The ~95% of older individuals who did experience side effects\n",
    "    random_older = randint(65, 100)\n",
    "    train_samples.append(random_older)\n",
    "    train_labels.append(1)"
   ]
  },
  {
   "cell_type": "code",
   "execution_count": 33,
   "metadata": {},
   "outputs": [],
   "source": [
    "# for i in train_samples:\n",
    "#     print(i)"
   ]
  },
  {
   "cell_type": "code",
   "execution_count": 34,
   "metadata": {},
   "outputs": [],
   "source": [
    "# for i in train_labels:\n",
    "#     print(i)"
   ]
  },
  {
   "cell_type": "code",
   "execution_count": 35,
   "metadata": {},
   "outputs": [],
   "source": [
    "train_labels = np.array(train_labels)\n",
    "train_samples = np.array(train_samples)\n",
    "train_labels, train_samples = shuffle(train_labels, train_samples)"
   ]
  },
  {
   "cell_type": "code",
   "execution_count": 36,
   "metadata": {},
   "outputs": [],
   "source": [
    "scaler = MinMaxScaler(feature_range=(0, 1))\n",
    "train_samples = scaler.fit_transform(train_samples.reshape(-1, 1))"
   ]
  },
  {
   "cell_type": "code",
   "execution_count": 37,
   "metadata": {},
   "outputs": [],
   "source": [
    "# for i in train_samples:\n",
    "#     print(i)"
   ]
  },
  {
   "cell_type": "code",
   "execution_count": 38,
   "metadata": {},
   "outputs": [],
   "source": [
    "model = models.Sequential([])\n",
    "\n",
    "model.add(layers.Dense(16, input_shape=(1,), activation=\"relu\"))\n",
    "model.add(layers.Dense(32, activation=\"relu\"))\n",
    "model.add(layers.Dense(2, activation=\"softmax\"))\n"
   ]
  },
  {
   "cell_type": "code",
   "execution_count": 39,
   "metadata": {},
   "outputs": [
    {
     "name": "stdout",
     "output_type": "stream",
     "text": [
      "Model: \"sequential_1\"\n",
      "_________________________________________________________________\n",
      "Layer (type)                 Output Shape              Param #   \n",
      "=================================================================\n",
      "dense_3 (Dense)              (None, 16)                32        \n",
      "_________________________________________________________________\n",
      "dense_4 (Dense)              (None, 32)                544       \n",
      "_________________________________________________________________\n",
      "dense_5 (Dense)              (None, 2)                 66        \n",
      "=================================================================\n",
      "Total params: 642\n",
      "Trainable params: 642\n",
      "Non-trainable params: 0\n",
      "_________________________________________________________________\n"
     ]
    }
   ],
   "source": [
    "model.summary()"
   ]
  },
  {
   "cell_type": "code",
   "execution_count": 40,
   "metadata": {},
   "outputs": [],
   "source": [
    "model.compile(loss='sparse_categorical_crossentropy', optimizer=tf.keras.optimizers.Adam(learning_rate=0.001), metrics=['accuracy'])"
   ]
  },
  {
   "cell_type": "code",
   "execution_count": 41,
   "metadata": {},
   "outputs": [
    {
     "name": "stdout",
     "output_type": "stream",
     "text": [
      "Epoch 1/10\n",
      "189/189 - 2s - loss: 0.5161 - accuracy: 0.7561 - val_loss: 0.4519 - val_accuracy: 0.8571\n",
      "Epoch 2/10\n",
      "189/189 - 1s - loss: 0.3132 - accuracy: 0.9344 - val_loss: 0.3441 - val_accuracy: 0.9381\n",
      "Epoch 3/10\n",
      "189/189 - 1s - loss: 0.2642 - accuracy: 0.9466 - val_loss: 0.3343 - val_accuracy: 0.9190\n",
      "Epoch 4/10\n",
      "189/189 - 1s - loss: 0.2547 - accuracy: 0.9497 - val_loss: 0.3320 - val_accuracy: 0.9381\n",
      "Epoch 5/10\n",
      "189/189 - 1s - loss: 0.2512 - accuracy: 0.9460 - val_loss: 0.3271 - val_accuracy: 0.9190\n",
      "Epoch 6/10\n",
      "189/189 - 0s - loss: 0.2480 - accuracy: 0.9460 - val_loss: 0.3270 - val_accuracy: 0.9381\n",
      "Epoch 7/10\n",
      "189/189 - 0s - loss: 0.2464 - accuracy: 0.9466 - val_loss: 0.3289 - val_accuracy: 0.9381\n",
      "Epoch 8/10\n",
      "189/189 - 0s - loss: 0.2450 - accuracy: 0.9466 - val_loss: 0.3341 - val_accuracy: 0.9286\n",
      "Epoch 9/10\n",
      "189/189 - 0s - loss: 0.2450 - accuracy: 0.9503 - val_loss: 0.3212 - val_accuracy: 0.9190\n",
      "Epoch 10/10\n",
      "189/189 - 0s - loss: 0.2444 - accuracy: 0.9450 - val_loss: 0.3215 - val_accuracy: 0.9000\n"
     ]
    }
   ],
   "source": [
    "history = model.fit(train_samples, train_labels, batch_size=10, epochs=10, validation_split=0.1, verbose=2)"
   ]
  },
  {
   "cell_type": "code",
   "execution_count": 42,
   "metadata": {},
   "outputs": [],
   "source": [
    "accuracy = history.history['accuracy']\n",
    "loss = history.history['loss']\n",
    "\n",
    "val_accuracy = history.history['val_accuracy']\n",
    "val_loss = history.history['val_loss']"
   ]
  },
  {
   "cell_type": "code",
   "execution_count": 43,
   "metadata": {},
   "outputs": [
    {
     "data": {
      "image/png": "[encoded data removed]",
      "text/plain": [
       "<Figure size 432x288 with 1 Axes>"
      ]
     },
     "metadata": {
      "needs_background": "light"
     },
     "output_type": "display_data"
    },
    {
     "data": {
      "image/png": "[encoded data removed]",
      "text/plain": [
       "<Figure size 432x288 with 1 Axes>"
      ]
     },
     "metadata": {
      "needs_background": "light"
     },
     "output_type": "display_data"
    }
   ],
   "source": [
    "epochs = range(len(accuracy))\n",
    "\n",
    "plt.plot(epochs, accuracy, 'r', label=\"Training accuracy\")\n",
    "plt.plot(epochs, val_accuracy, 'b', label=\"Validation accuracy\")\n",
    "plt.legend()\n",
    "plt.title(\"Training and Validation Accuracy\")\n",
    "plt.show()\n",
    "\n",
    "plt.plot(epochs, loss, 'r', label=\"Training loss\")\n",
    "plt.plot(epochs, val_loss, 'b', label=\"Validation loss\")\n",
    "plt.legend()\n",
    "plt.title(\"Training and Validation Loss\")\n",
    "plt.show()"
   ]
  },
  {
   "cell_type": "code",
   "execution_count": 44,
   "metadata": {},
   "outputs": [],
   "source": [
    "test_labels = []\n",
    "test_samples = []"
   ]
  },
  {
   "cell_type": "code",
   "execution_count": 45,
   "metadata": {},
   "outputs": [],
   "source": [
    "for i in range(10):\n",
    "    # The ~5% of younger individuals who did experience side effects\n",
    "    random_younger = randint(30, 64)\n",
    "    test_samples.append(random_younger)\n",
    "    test_labels.append(1)\n",
    "\n",
    "    #The ~5% of older individuals who did not experience side effects\n",
    "    random_older = randint(65, 100)\n",
    "    test_samples.append(random_older)\n",
    "    test_labels.append(0)\n",
    "\n",
    "for i in range(200):\n",
    "    # The ~95% of younger individuals who did not experience side effects\n",
    "    random_younger = randint(30, 64)\n",
    "    test_samples.append(random_younger)\n",
    "    test_labels.append(0)\n",
    "\n",
    "    #The ~9% of older individuals who did experience side effects\n",
    "    random_older = randint(65, 100)\n",
    "    test_samples.append(random_older)\n",
    "    test_labels.append(1)"
   ]
  },
  {
   "cell_type": "code",
   "execution_count": 46,
   "metadata": {},
   "outputs": [],
   "source": [
    "test_labels = np.array(test_labels)\n",
    "test_samples = np.array(test_samples)\n",
    "test_labels, test_samples = shuffle(test_labels, test_samples)"
   ]
  },
  {
   "cell_type": "code",
   "execution_count": 47,
   "metadata": {},
   "outputs": [],
   "source": [
    "scaler = MinMaxScaler(feature_range=(0, 1))\n",
    "test_samples = scaler.fit_transform(test_samples.reshape(-1, 1))"
   ]
  },
  {
   "cell_type": "code",
   "execution_count": 48,
   "metadata": {},
   "outputs": [],
   "source": [
    "predictions = model.predict(test_samples, batch_size=10, verbose=0)"
   ]
  },
  {
   "cell_type": "code",
   "execution_count": 51,
   "metadata": {},
   "outputs": [],
   "source": [
    "# for i in predictions:\n",
    "#     print(i)"
   ]
  },
  {
   "cell_type": "code",
   "execution_count": 52,
   "metadata": {},
   "outputs": [],
   "source": [
    "roundof_predictions = np.argmax(predictions, axis=1)\n",
    "\n",
    "# for i in roundof_predictions:\n",
    "#     print(i)"
   ]
  },
  {
   "cell_type": "markdown",
   "metadata": {},
   "source": [
    "Confusion Matrix"
   ]
  },
  {
   "cell_type": "code",
   "execution_count": 53,
   "metadata": {},
   "outputs": [],
   "source": [
    "cm = confusion_matrix(y_true=test_labels, y_pred=roundof_predictions)"
   ]
  },
  {
   "cell_type": "code",
   "execution_count": 54,
   "metadata": {},
   "outputs": [],
   "source": [
    "def plot_confusion_matrix(cm, classes, normalize=False, title='Confusion matrix', cmap=plt.cm.Blues):\n",
    "    plt.imshow(cm, interpolation='nearest', cmap=cmap)\n",
    "    plt.title(title)\n",
    "    plt.colorbar()\n",
    "    tick_marks = np.arange(len(classes))\n",
    "    plt.xticks(tick_marks, classes, rotation=45)\n",
    "    plt.yticks(tick_marks, classes)\n",
    "\n",
    "    if normalize:\n",
    "        cm = cm.astype('float') / cm.sum(axis=1)[:, np.newaxis]\n",
    "        print(\"Normalized confusion matrix\")\n",
    "    else:\n",
    "        print('Confusion matrix, without normalization')\n",
    "\n",
    "    print(cm)\n",
    "\n",
    "    thresh = cm.max() / 2.\n",
    "    for i, j in itertools.product(range(cm.shape[0]), range(cm.shape[1])):\n",
    "        plt.text(j, i, cm[i, j], horizontalalignment=\"center\", color=\"white\" if cm[i, j] > thresh else \"black\")\n",
    "\n",
    "    plt.tight_layout()\n",
    "    plt.ylabel('True label')\n",
    "    plt.xlabel('Predicted label')"
   ]
  },
  {
   "cell_type": "code",
   "execution_count": 55,
   "metadata": {},
   "outputs": [
    {
     "name": "stdout",
     "output_type": "stream",
     "text": [
      "Confusion matrix, without normalization\n",
      "[[201   9]\n",
      " [ 23 187]]\n"
     ]
    },
    {
     "data": {
      "image/png": "[encoded data removed]",
      "text/plain": [
       "<Figure size 432x288 with 2 Axes>"
      ]
     },
     "metadata": {
      "needs_background": "light"
     },
     "output_type": "display_data"
    }
   ],
   "source": [
    "cm_plot_labels = ['no_side_effects','had_side_effects']\n",
    "plot_confusion_matrix(cm=cm, classes=cm_plot_labels, title='Confusion Matrix')"
   ]
  },
  {
   "cell_type": "code",
   "execution_count": 56,
   "metadata": {},
   "outputs": [],
   "source": [
    "model.save(\"project-bright-eyes.h5\")"
   ]
  },
  {
   "cell_type": "code",
   "execution_count": 57,
   "metadata": {},
   "outputs": [
    {
     "data": {
      "text/plain": [
       "[array([[-0.5500558 ,  0.7660689 ,  0.7524453 , -0.04552436, -0.5296859 ,\n",
       "         -0.49640617, -0.33143672, -0.06374544, -0.15889831, -0.1329628 ,\n",
       "         -0.2867802 ,  0.7297328 , -0.12210467, -0.18838069,  0.40896642,\n",
       "         -0.2410666 ]], dtype=float32),\n",
       " array([ 0.        , -0.18589114, -0.13116129,  0.        ,  0.        ,\n",
       "         0.        ,  0.        ,  0.        ,  0.23773581,  0.        ,\n",
       "         0.        , -0.16523923,  0.        ,  0.        , -0.1558542 ,\n",
       "         0.        ], dtype=float32),\n",
       " array([[-0.18961656, -0.10857652, -0.33057627,  0.3028622 , -0.0813536 ,\n",
       "          0.14225665,  0.21731481,  0.08659971, -0.03099698, -0.3062019 ,\n",
       "          0.0082446 ,  0.04570487, -0.14981484, -0.3275186 , -0.07155412,\n",
       "         -0.03548774,  0.11264715, -0.3184482 ,  0.0411832 , -0.15777217,\n",
       "         -0.3058    , -0.29929927,  0.23472205, -0.29279846,  0.24976459,\n",
       "          0.24023762, -0.34123757,  0.07421622, -0.3219906 , -0.08654821,\n",
       "          0.05334669,  0.08024812],\n",
       "        [-0.04675309,  0.01393537, -0.6243105 ,  0.18797722,  0.2738902 ,\n",
       "          0.22500739, -0.42081702,  0.29271817,  0.15713699,  0.39277703,\n",
       "          0.06704888,  0.48747677,  0.26046246, -0.597183  ,  0.07562805,\n",
       "          0.41919655,  0.18193187,  0.16892585, -0.38890663, -0.14613473,\n",
       "         -0.4921573 , -0.11389367,  0.20255737, -0.03203958, -0.29325542,\n",
       "          0.10931503, -0.6747195 ,  0.10691999,  0.04956049, -0.31819537,\n",
       "          0.25677425,  0.5024836 ],\n",
       "        [-0.5170286 ,  0.42368495, -0.1664947 ,  0.09160271,  0.52726173,\n",
       "          0.22730772, -0.26710802,  0.5225897 ,  0.10956469,  0.27443004,\n",
       "         -0.3248082 ,  0.07580835,  0.49622747,  0.01478795,  0.09239257,\n",
       "          0.29426193,  0.4253973 ,  0.4666062 , -0.01262212, -0.56226885,\n",
       "          0.0204752 , -0.12736718,  0.5280981 , -0.09591115, -0.45779383,\n",
       "         -0.05455665, -0.21809293,  0.4320177 ,  0.05313506, -0.26057532,\n",
       "          0.08373192, -0.08836018],\n",
       "        [-0.33145216, -0.311871  , -0.12893471, -0.0842002 ,  0.01114979,\n",
       "         -0.00326926,  0.16315988, -0.34981394, -0.33822256,  0.17014852,\n",
       "          0.33246645,  0.30708334,  0.07683581, -0.18105434, -0.25460237,\n",
       "         -0.12905686,  0.20073053,  0.18039754,  0.02863508, -0.3454612 ,\n",
       "          0.16901895, -0.18256599, -0.11900121,  0.21536788, -0.27645677,\n",
       "         -0.21930572,  0.11488926, -0.26732692, -0.21175672,  0.34069583,\n",
       "         -0.24776193,  0.00938746],\n",
       "        [ 0.1957728 ,  0.32518753,  0.01276872,  0.18007603,  0.07224879,\n",
       "          0.14144415,  0.20928892, -0.05687362,  0.03519532,  0.34988406,\n",
       "          0.3308241 ,  0.18366888, -0.14261465,  0.3130605 , -0.26412645,\n",
       "         -0.25359496,  0.24864253,  0.00124669,  0.00519806, -0.19085011,\n",
       "          0.08653101, -0.03311235, -0.01918399,  0.05844966, -0.24877185,\n",
       "         -0.16888486,  0.3351418 , -0.27688885, -0.02580246, -0.34651747,\n",
       "         -0.2333306 ,  0.30693308],\n",
       "        [ 0.03893855, -0.26547152, -0.12540567, -0.03836089, -0.12259169,\n",
       "         -0.22317725,  0.22043839,  0.07631201, -0.19100268,  0.01303434,\n",
       "         -0.2664146 ,  0.24216637, -0.2616441 , -0.24570349, -0.27384332,\n",
       "          0.11048627,  0.08188272,  0.06372368,  0.35320744, -0.13712393,\n",
       "         -0.21887583,  0.13925192,  0.3186784 , -0.24257946,  0.00803107,\n",
       "         -0.2374309 ,  0.09191874,  0.17381117, -0.12688991,  0.16940084,\n",
       "          0.20111337,  0.08006045],\n",
       "        [-0.3241301 , -0.20621626, -0.1576121 ,  0.0914934 ,  0.10586867,\n",
       "          0.06737241, -0.12548828, -0.19908452,  0.16596779,  0.23211768,\n",
       "         -0.22528233,  0.08450341, -0.3294625 ,  0.32220134,  0.3449792 ,\n",
       "          0.23548386,  0.22389874, -0.155826  ,  0.10109478, -0.18843131,\n",
       "          0.30457374,  0.21710041,  0.00483054, -0.27224714,  0.22764573,\n",
       "         -0.02169314,  0.11388239,  0.13198227,  0.0207735 , -0.00808325,\n",
       "          0.2946631 , -0.03301278],\n",
       "        [ 0.34678164,  0.03302887,  0.26536086,  0.24168512, -0.08648661,\n",
       "          0.17137113, -0.08310229,  0.2658523 , -0.32931533, -0.2791187 ,\n",
       "          0.08557227,  0.00887141,  0.27076903, -0.04929623,  0.09326929,\n",
       "         -0.04678577, -0.2100523 , -0.08640948, -0.21647464, -0.31629354,\n",
       "          0.23020998, -0.2057282 , -0.29001987, -0.21509871,  0.06362858,\n",
       "         -0.3205793 ,  0.17935666,  0.13226768, -0.15786278, -0.1827403 ,\n",
       "         -0.20522355,  0.11207438],\n",
       "        [ 0.5800875 , -0.24053462,  0.5376983 , -0.11952391, -0.03685499,\n",
       "         -0.24286251,  0.4000022 , -0.274859  ,  0.43164968,  0.05952738,\n",
       "         -0.22679152,  0.21414234, -0.1836061 ,  0.1354081 , -0.10608892,\n",
       "          0.17133468,  0.04994538, -0.2499602 ,  0.1018338 ,  0.3536888 ,\n",
       "          0.33093697, -0.10577746, -0.293468  ,  0.47515577,  0.33980545,\n",
       "          0.50560176,  0.3217356 , -0.35574704,  0.23251976,  0.15495375,\n",
       "         -0.12288745,  0.23352635],\n",
       "        [-0.11109234,  0.29704204, -0.2338329 , -0.2982476 ,  0.01689449,\n",
       "          0.27040532, -0.1600771 ,  0.11876568,  0.07634345, -0.07596546,\n",
       "          0.26376525,  0.11670706,  0.24036625,  0.21805295,  0.14875796,\n",
       "          0.25460222,  0.34527245, -0.29875094, -0.24941814, -0.07994547,\n",
       "          0.3401588 , -0.26912433, -0.14833482, -0.15136172,  0.03752959,\n",
       "          0.34348688, -0.21677414, -0.28545722, -0.15618029, -0.14111076,\n",
       "         -0.2567356 ,  0.17154643],\n",
       "        [-0.120702  ,  0.23361215, -0.04817435, -0.19468784, -0.18617737,\n",
       "         -0.18004198, -0.2355449 ,  0.03606397,  0.06131229,  0.06757817,\n",
       "         -0.21806341,  0.10456187, -0.19803236, -0.14999035, -0.22277863,\n",
       "         -0.3128145 , -0.11656925, -0.25058097, -0.05107868,  0.19306049,\n",
       "         -0.00837618,  0.19797245, -0.3153905 ,  0.07324472,  0.14678106,\n",
       "         -0.12966748,  0.16628566,  0.32135388, -0.20880981, -0.35122764,\n",
       "          0.3009638 ,  0.33516118],\n",
       "        [-0.5817176 ,  0.4873705 , -0.04492376, -0.30304217,  0.56264603,\n",
       "          0.38446656, -0.34901053,  0.505693  ,  0.08552251,  0.29847345,\n",
       "         -0.16860458,  0.40619227,  0.35048026, -0.39481393, -0.30240014,\n",
       "         -0.02871053,  0.10505997,  0.18803023, -0.27556962, -0.3886855 ,\n",
       "         -0.05686154, -0.2022773 ,  0.23958124, -0.39328274,  0.00215334,\n",
       "         -0.17573461,  0.01011991,  0.3358985 ,  0.44478923,  0.12263173,\n",
       "          0.5014642 ,  0.5612412 ],\n",
       "        [-0.32816815, -0.11211871, -0.22742717,  0.13625428, -0.15019813,\n",
       "          0.26242957, -0.05113491,  0.0409959 , -0.3232886 , -0.24266739,\n",
       "          0.04144239, -0.14665055, -0.34888157,  0.29261157, -0.03182516,\n",
       "          0.004388  , -0.23565423,  0.12130883, -0.10174948, -0.10024485,\n",
       "         -0.28543195, -0.24513695,  0.08837166,  0.04070348, -0.1426326 ,\n",
       "         -0.05197558,  0.17144671,  0.17346022,  0.18629554,  0.02948138,\n",
       "         -0.04402703, -0.07504582],\n",
       "        [-0.34370366, -0.34765932, -0.00846216, -0.03425628,  0.0094623 ,\n",
       "         -0.28435796, -0.23535424,  0.13822135, -0.13753124, -0.16728978,\n",
       "          0.04785934, -0.13283658,  0.3507925 ,  0.10717463, -0.33173785,\n",
       "          0.21828398,  0.25665477, -0.312647  , -0.05284986, -0.32048556,\n",
       "          0.21375248, -0.27959839,  0.30822697, -0.18118913, -0.04911262,\n",
       "         -0.2753265 , -0.10382286, -0.03880444, -0.15522373,  0.31215742,\n",
       "         -0.02425173, -0.33784878],\n",
       "        [-0.21844189,  0.56438124, -0.49210444, -0.19384389,  0.49106595,\n",
       "         -0.00473892, -0.49443585,  0.2770097 ,  0.1234879 ,  0.32804254,\n",
       "         -0.15090957,  0.2640642 ,  0.46340156, -0.21148275, -0.044628  ,\n",
       "          0.45849493,  0.52610517,  0.07048593, -0.57397217, -0.17104557,\n",
       "         -0.604183  ,  0.34339854,  0.2486748 ,  0.07487029, -0.5261133 ,\n",
       "         -0.28085428, -0.1631032 ,  0.4759766 ,  0.5745934 ,  0.3045645 ,\n",
       "          0.57048655, -0.03796361],\n",
       "        [ 0.26556948, -0.2878681 ,  0.08332667, -0.0155398 ,  0.06227946,\n",
       "          0.12003556,  0.3516557 ,  0.28566012, -0.10879712,  0.13045561,\n",
       "          0.2538499 ,  0.0201005 ,  0.14317891, -0.00611559,  0.07049143,\n",
       "         -0.0737569 , -0.08921856, -0.21955852, -0.20352477, -0.17712693,\n",
       "          0.34628847,  0.30940083,  0.03630638,  0.17802247,  0.0596028 ,\n",
       "         -0.0984633 ,  0.22274342,  0.06567329,  0.18376264, -0.1115966 ,\n",
       "         -0.253465  , -0.18814176]], dtype=float32),\n",
       " array([ 0.24944724, -0.08960259,  0.18883142,  0.        , -0.17003462,\n",
       "        -0.06611524,  0.2632782 , -0.12811795,  0.14964373, -0.13757487,\n",
       "         0.        , -0.1508199 , -0.11507031,  0.25157326,  0.14042144,\n",
       "        -0.1281802 , -0.11551178, -0.07373916,  0.2108942 ,  0.26866984,\n",
       "         0.14332835,  0.        , -0.08634113,  0.15809508,  0.2085339 ,\n",
       "         0.17351332,  0.20636226, -0.06322199, -0.11639028, -0.04435048,\n",
       "        -0.08849264, -0.15615511], dtype=float32),\n",
       " array([[ 0.38022292, -0.72622144],\n",
       "        [-0.40715656,  0.5097129 ],\n",
       "        [ 0.14929415, -0.75491565],\n",
       "        [-0.2354811 ,  0.03295749],\n",
       "        [ 0.09914657,  0.52596575],\n",
       "        [-0.6189294 ,  0.37076062],\n",
       "        [ 0.2825369 , -0.740537  ],\n",
       "        [-0.17021851,  0.3327524 ],\n",
       "        [ 0.25201905, -0.26175004],\n",
       "        [-0.3101491 ,  0.46721202],\n",
       "        [ 0.05107838,  0.05199179],\n",
       "        [-0.5155563 ,  0.5810387 ],\n",
       "        [-0.5440366 ,  0.4691715 ],\n",
       "        [ 0.29008865, -0.77915895],\n",
       "        [ 0.20245878,  0.06864777],\n",
       "        [-0.6056747 ,  0.3839101 ],\n",
       "        [-0.53895396,  0.57135713],\n",
       "        [-0.2645482 ,  0.5331244 ],\n",
       "        [ 0.47917253, -0.8197614 ],\n",
       "        [ 0.48012826, -0.5984185 ],\n",
       "        [ 0.46858275, -0.39653015],\n",
       "        [ 0.03396726,  0.22108522],\n",
       "        [-0.3501013 ,  0.53471965],\n",
       "        [ 0.5292744 , -0.4512217 ],\n",
       "        [ 0.02835609, -0.72657657],\n",
       "        [ 0.09475759, -0.50922954],\n",
       "        [ 0.43799043, -0.2886663 ],\n",
       "        [-0.4198369 ,  0.1859718 ],\n",
       "        [-0.13565888,  0.6489617 ],\n",
       "        [-0.36361963,  0.3391007 ],\n",
       "        [-0.6641278 ,  0.10044471],\n",
       "        [-0.5273415 , -0.01227528]], dtype=float32),\n",
       " array([ 0.15694472, -0.15694475], dtype=float32)]"
      ]
     },
     "execution_count": 57,
     "metadata": {},
     "output_type": "execute_result"
    }
   ],
   "source": [
    "model.get_weights()"
   ]
  },
  {
   "cell_type": "code",
   "execution_count": null,
   "metadata": {},
   "outputs": [],
   "source": []
  }
 ],
 "metadata": {
  "interpreter": {
   "hash": "dcacb0086e9a4f4eabd41c33bf4faac5ea0a3337ed3f5eff0680afa930572c04"
  },
  "kernelspec": {
   "display_name": "Python 3.9.5 64-bit",
   "language": "python",
   "name": "python3"
  },
  "language_info": {
   "codemirror_mode": {
    "name": "ipython",
    "version": 3
   },
   "file_extension": ".py",
   "mimetype": "text/x-python",
   "name": "python",
   "nbconvert_exporter": "python",
   "pygments_lexer": "ipython3",
   "version": "3.9.5"
  },
  "orig_nbformat": 4
 },
 "nbformat": 4,
 "nbformat_minor": 2
}
